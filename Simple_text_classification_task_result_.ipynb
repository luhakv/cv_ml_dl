{
  "nbformat": 4,
  "nbformat_minor": 0,
  "metadata": {
    "colab": {
      "name": "Копия блокнота \"Simple text classification task.ipynb\"",
      "provenance": [],
      "collapsed_sections": []
    },
    "kernelspec": {
      "name": "python3",
      "display_name": "Python 3"
    },
    "language_info": {
      "name": "python"
    }
  },
  "cells": [
    {
      "cell_type": "markdown",
      "metadata": {
        "id": "s1DNiHsB0bvg"
      },
      "source": [
        "# Классификация текста простыми методами"
      ]
    },
    {
      "cell_type": "code",
      "metadata": {
        "colab": {
          "base_uri": "https://localhost:8080/"
        },
        "id": "MpFTvZC_j0ac",
        "outputId": "36d7f770-30bb-4d43-8c1c-bae5a1e424e9"
      },
      "source": [
        "import nltk\n",
        "nltk.download('punkt')\n",
        "nltk.download('averaged_perceptron_tagger')\n",
        "nltk.download('wordnet')\n",
        "nltk.download('stopwords')"
      ],
      "execution_count": 1,
      "outputs": [
        {
          "output_type": "stream",
          "text": [
            "[nltk_data] Downloading package punkt to /root/nltk_data...\n",
            "[nltk_data]   Unzipping tokenizers/punkt.zip.\n",
            "[nltk_data] Downloading package averaged_perceptron_tagger to\n",
            "[nltk_data]     /root/nltk_data...\n",
            "[nltk_data]   Unzipping taggers/averaged_perceptron_tagger.zip.\n",
            "[nltk_data] Downloading package wordnet to /root/nltk_data...\n",
            "[nltk_data]   Unzipping corpora/wordnet.zip.\n",
            "[nltk_data] Downloading package stopwords to /root/nltk_data...\n",
            "[nltk_data]   Unzipping corpora/stopwords.zip.\n"
          ],
          "name": "stdout"
        },
        {
          "output_type": "execute_result",
          "data": {
            "text/plain": [
              "True"
            ]
          },
          "metadata": {
            "tags": []
          },
          "execution_count": 1
        }
      ]
    },
    {
      "cell_type": "code",
      "metadata": {
        "id": "ivAOt423fyiv",
        "colab": {
          "base_uri": "https://localhost:8080/"
        },
        "outputId": "81953bc1-f1bf-4236-cbda-ae437b4c1dba"
      },
      "source": [
        "from sklearn.datasets import fetch_20newsgroups\n",
        "\n",
        "categories = [\"comp.sys.mac.hardware\", \"comp.windows.x\",  \"misc.forsale\", \"rec.autos\", \"rec.motorcycles\", \"rec.sport.baseball\", \"rec.sport.hockey\", \"sci.crypt\", \"sci.electronics\", \"sci.med\",\n",
        "              \"sci.space\", \"soc.religion.christian\", \"talk.politics.guns\", \"talk.politics.mideast\"]\n",
        "              \n",
        "newsgroups_train = fetch_20newsgroups(subset='train', categories=categories)\n",
        "newsgroups_test = fetch_20newsgroups(subset='test', categories=categories)\n",
        "\n",
        "X_train = newsgroups_train.data\n",
        "y_train = newsgroups_train.target\n",
        "\n",
        "X_test = newsgroups_test.data\n",
        "y_test = newsgroups_test.target"
      ],
      "execution_count": 2,
      "outputs": [
        {
          "output_type": "stream",
          "text": [
            "Downloading 20news dataset. This may take a few minutes.\n",
            "Downloading dataset from https://ndownloader.figshare.com/files/5975967 (14 MB)\n"
          ],
          "name": "stderr"
        }
      ]
    },
    {
      "cell_type": "code",
      "metadata": {
        "colab": {
          "base_uri": "https://localhost:8080/"
        },
        "id": "T0qDNIBUhfXb",
        "outputId": "f259a748-f49d-40d9-a3c6-c2a456997457"
      },
      "source": [
        "len(X_train), len(y_train)"
      ],
      "execution_count": 3,
      "outputs": [
        {
          "output_type": "execute_result",
          "data": {
            "text/plain": [
              "(8227, 8227)"
            ]
          },
          "metadata": {
            "tags": []
          },
          "execution_count": 3
        }
      ]
    },
    {
      "cell_type": "code",
      "metadata": {
        "colab": {
          "base_uri": "https://localhost:8080/"
        },
        "id": "gkENH8hHtb81",
        "outputId": "176ab4f3-c95d-46a8-f86b-16081f5c027d"
      },
      "source": [
        "len(X_test), len(y_test)"
      ],
      "execution_count": 4,
      "outputs": [
        {
          "output_type": "execute_result",
          "data": {
            "text/plain": [
              "(5477, 5477)"
            ]
          },
          "metadata": {
            "tags": []
          },
          "execution_count": 4
        }
      ]
    },
    {
      "cell_type": "code",
      "metadata": {
        "colab": {
          "base_uri": "https://localhost:8080/"
        },
        "id": "Go-p-5rADgpB",
        "outputId": "7794c8e5-effd-4add-c0ed-1b6788a1eab7"
      },
      "source": [
        "from sklearn.feature_extraction.text import TfidfVectorizer\n",
        "\n",
        "vectorizer = TfidfVectorizer()\n",
        "X_train_vec = vectorizer.fit_transform(X_train)\n",
        "X_train_vec.shape"
      ],
      "execution_count": 5,
      "outputs": [
        {
          "output_type": "execute_result",
          "data": {
            "text/plain": [
              "(8227, 83981)"
            ]
          },
          "metadata": {
            "tags": []
          },
          "execution_count": 5
        }
      ]
    },
    {
      "cell_type": "code",
      "metadata": {
        "colab": {
          "base_uri": "https://localhost:8080/"
        },
        "id": "1PhWnt_xDrBz",
        "outputId": "3890040e-95bc-4067-89e8-15ede3931531"
      },
      "source": [
        "from sklearn.linear_model import LogisticRegression\n",
        "\n",
        "lr = LogisticRegression()\n",
        "\n",
        "lr.fit(X_train_vec, y_train)"
      ],
      "execution_count": 6,
      "outputs": [
        {
          "output_type": "execute_result",
          "data": {
            "text/plain": [
              "LogisticRegression(C=1.0, class_weight=None, dual=False, fit_intercept=True,\n",
              "                   intercept_scaling=1, l1_ratio=None, max_iter=100,\n",
              "                   multi_class='auto', n_jobs=None, penalty='l2',\n",
              "                   random_state=None, solver='lbfgs', tol=0.0001, verbose=0,\n",
              "                   warm_start=False)"
            ]
          },
          "metadata": {
            "tags": []
          },
          "execution_count": 6
        }
      ]
    },
    {
      "cell_type": "code",
      "metadata": {
        "id": "GxyS-7q1DtpQ"
      },
      "source": [
        "X_test_vec = X_train_vec = vectorizer.transform(X_test)\n",
        "y_pred = lr.predict(X_test_vec)"
      ],
      "execution_count": 7,
      "outputs": []
    },
    {
      "cell_type": "code",
      "metadata": {
        "colab": {
          "base_uri": "https://localhost:8080/"
        },
        "id": "9CwgK5o2Dz5a",
        "outputId": "a8490054-bc91-4661-a296-0f1271046fd3"
      },
      "source": [
        "from sklearn.metrics import classification_report\n",
        "\n",
        "print(classification_report(y_true=y_test, y_pred=y_pred, target_names=newsgroups_train.target_names))"
      ],
      "execution_count": 8,
      "outputs": [
        {
          "output_type": "stream",
          "text": [
            "                        precision    recall  f1-score   support\n",
            "\n",
            " comp.sys.mac.hardware       0.87      0.90      0.89       385\n",
            "        comp.windows.x       0.90      0.91      0.90       395\n",
            "          misc.forsale       0.77      0.92      0.84       390\n",
            "             rec.autos       0.91      0.90      0.90       396\n",
            "       rec.motorcycles       0.96      0.95      0.95       398\n",
            "    rec.sport.baseball       0.90      0.92      0.91       397\n",
            "      rec.sport.hockey       0.95      0.94      0.95       399\n",
            "             sci.crypt       0.95      0.89      0.92       396\n",
            "       sci.electronics       0.78      0.84      0.81       393\n",
            "               sci.med       0.94      0.84      0.89       396\n",
            "             sci.space       0.95      0.93      0.94       394\n",
            "soc.religion.christian       0.92      0.95      0.94       398\n",
            "    talk.politics.guns       0.95      0.90      0.92       364\n",
            " talk.politics.mideast       0.99      0.91      0.95       376\n",
            "\n",
            "              accuracy                           0.91      5477\n",
            "             macro avg       0.91      0.91      0.91      5477\n",
            "          weighted avg       0.91      0.91      0.91      5477\n",
            "\n"
          ],
          "name": "stdout"
        }
      ]
    },
    {
      "cell_type": "code",
      "metadata": {
        "id": "XXF-q7lwD3P3"
      },
      "source": [
        "x = X_train[0]"
      ],
      "execution_count": 9,
      "outputs": []
    },
    {
      "cell_type": "code",
      "metadata": {
        "colab": {
          "base_uri": "https://localhost:8080/"
        },
        "id": "jU5CXnU1EEiU",
        "outputId": "d031c13c-2dc2-47cd-9438-d47042d8e8a7"
      },
      "source": [
        "print(x)"
      ],
      "execution_count": 10,
      "outputs": [
        {
          "output_type": "stream",
          "text": [
            "From: fist@iscp.bellcore.com (Richard Pierson)\n",
            "Subject: Moving On\n",
            "Nntp-Posting-Host: foxtrot.iscp.bellcore.com\n",
            "Organization: Bellcore\n",
            "Distribution: usa\n",
            "Lines: 25\n",
            "\n",
            "Well, it's been fun. This is my last day at Bellcore and\n",
            "It will be a while before I have net access again (taking\n",
            "time off and scheduling Military Schools for the summer\n",
            "on joint operations, and anything else that looks good).\n",
            "I have had a blast reading, responding and commenting on\n",
            "things posted here. My final say is 9mm's are inferior\n",
            "to .45's errr oh wrong news group. Hopefully I'll be back.\n",
            "I guess \"internet withdrawl\" starts around 1pm or so and\n",
            "considering I never knew inet existed 2 years ago I am\n",
            "really going to miss it. \n",
            "\n",
            "OH yea, to the guy who called me this morning about the\n",
            "\"Military issue\" boots, good luck, I think you will be\n",
            "happy with the tankers boots.\n",
            "-- \n",
            "##########################################################\n",
            "There are only two types of ships in the NAVY; SUBMARINES \n",
            "                 and TARGETS !!!\n",
            "#1/XS1100LH\tDoD #956   #2 Next raise\n",
            "Richard Pierson E06584 vnet: [908] 699-6063\n",
            "Internet: fist@iscp.bellcore.com,|| UUNET:uunet!bcr!fist  \n",
            "#include <std.disclaimer> My opinions are my own!!!\n",
            "I Don't shop in malls, I BUY my jeans, jackets and ammo\n",
            "in the same store.\n",
            "\n",
            "\n"
          ],
          "name": "stdout"
        }
      ]
    },
    {
      "cell_type": "code",
      "metadata": {
        "colab": {
          "base_uri": "https://localhost:8080/"
        },
        "id": "tPIw-XWpEGD_",
        "outputId": "d1f64078-669a-45e2-bbfa-e79c6e381b5f"
      },
      "source": [
        "x = x.lower()\n",
        "print(x)"
      ],
      "execution_count": 11,
      "outputs": [
        {
          "output_type": "stream",
          "text": [
            "from: fist@iscp.bellcore.com (richard pierson)\n",
            "subject: moving on\n",
            "nntp-posting-host: foxtrot.iscp.bellcore.com\n",
            "organization: bellcore\n",
            "distribution: usa\n",
            "lines: 25\n",
            "\n",
            "well, it's been fun. this is my last day at bellcore and\n",
            "it will be a while before i have net access again (taking\n",
            "time off and scheduling military schools for the summer\n",
            "on joint operations, and anything else that looks good).\n",
            "i have had a blast reading, responding and commenting on\n",
            "things posted here. my final say is 9mm's are inferior\n",
            "to .45's errr oh wrong news group. hopefully i'll be back.\n",
            "i guess \"internet withdrawl\" starts around 1pm or so and\n",
            "considering i never knew inet existed 2 years ago i am\n",
            "really going to miss it. \n",
            "\n",
            "oh yea, to the guy who called me this morning about the\n",
            "\"military issue\" boots, good luck, i think you will be\n",
            "happy with the tankers boots.\n",
            "-- \n",
            "##########################################################\n",
            "there are only two types of ships in the navy; submarines \n",
            "                 and targets !!!\n",
            "#1/xs1100lh\tdod #956   #2 next raise\n",
            "richard pierson e06584 vnet: [908] 699-6063\n",
            "internet: fist@iscp.bellcore.com,|| uunet:uunet!bcr!fist  \n",
            "#include <std.disclaimer> my opinions are my own!!!\n",
            "i don't shop in malls, i buy my jeans, jackets and ammo\n",
            "in the same store.\n",
            "\n",
            "\n"
          ],
          "name": "stdout"
        }
      ]
    },
    {
      "cell_type": "code",
      "metadata": {
        "colab": {
          "base_uri": "https://localhost:8080/"
        },
        "id": "MJq2QR4mEJrs",
        "outputId": "6f661575-13ea-4449-84c9-0a9a7aa2a500"
      },
      "source": [
        "x = nltk.word_tokenize(x)\n",
        "print(x)"
      ],
      "execution_count": 12,
      "outputs": [
        {
          "output_type": "stream",
          "text": [
            "['from', ':', 'fist', '@', 'iscp.bellcore.com', '(', 'richard', 'pierson', ')', 'subject', ':', 'moving', 'on', 'nntp-posting-host', ':', 'foxtrot.iscp.bellcore.com', 'organization', ':', 'bellcore', 'distribution', ':', 'usa', 'lines', ':', '25', 'well', ',', 'it', \"'s\", 'been', 'fun', '.', 'this', 'is', 'my', 'last', 'day', 'at', 'bellcore', 'and', 'it', 'will', 'be', 'a', 'while', 'before', 'i', 'have', 'net', 'access', 'again', '(', 'taking', 'time', 'off', 'and', 'scheduling', 'military', 'schools', 'for', 'the', 'summer', 'on', 'joint', 'operations', ',', 'and', 'anything', 'else', 'that', 'looks', 'good', ')', '.', 'i', 'have', 'had', 'a', 'blast', 'reading', ',', 'responding', 'and', 'commenting', 'on', 'things', 'posted', 'here', '.', 'my', 'final', 'say', 'is', '9mm', \"'s\", 'are', 'inferior', 'to', '.45', \"'s\", 'errr', 'oh', 'wrong', 'news', 'group', '.', 'hopefully', 'i', \"'ll\", 'be', 'back', '.', 'i', 'guess', '``', 'internet', 'withdrawl', \"''\", 'starts', 'around', '1pm', 'or', 'so', 'and', 'considering', 'i', 'never', 'knew', 'inet', 'existed', '2', 'years', 'ago', 'i', 'am', 'really', 'going', 'to', 'miss', 'it', '.', 'oh', 'yea', ',', 'to', 'the', 'guy', 'who', 'called', 'me', 'this', 'morning', 'about', 'the', \"''\", 'military', 'issue', \"''\", 'boots', ',', 'good', 'luck', ',', 'i', 'think', 'you', 'will', 'be', 'happy', 'with', 'the', 'tankers', 'boots', '.', '--', '#', '#', '#', '#', '#', '#', '#', '#', '#', '#', '#', '#', '#', '#', '#', '#', '#', '#', '#', '#', '#', '#', '#', '#', '#', '#', '#', '#', '#', '#', '#', '#', '#', '#', '#', '#', '#', '#', '#', '#', '#', '#', '#', '#', '#', '#', '#', '#', '#', '#', '#', '#', '#', '#', '#', '#', '#', '#', 'there', 'are', 'only', 'two', 'types', 'of', 'ships', 'in', 'the', 'navy', ';', 'submarines', 'and', 'targets', '!', '!', '!', '#', '1/xs1100lh', 'dod', '#', '956', '#', '2', 'next', 'raise', 'richard', 'pierson', 'e06584', 'vnet', ':', '[', '908', ']', '699-6063', 'internet', ':', 'fist', '@', 'iscp.bellcore.com', ',', '||', 'uunet', ':', 'uunet', '!', 'bcr', '!', 'fist', '#', 'include', '<', 'std.disclaimer', '>', 'my', 'opinions', 'are', 'my', 'own', '!', '!', '!', 'i', 'do', \"n't\", 'shop', 'in', 'malls', ',', 'i', 'buy', 'my', 'jeans', ',', 'jackets', 'and', 'ammo', 'in', 'the', 'same', 'store', '.']\n"
          ],
          "name": "stdout"
        }
      ]
    },
    {
      "cell_type": "code",
      "metadata": {
        "colab": {
          "base_uri": "https://localhost:8080/"
        },
        "id": "irj1ZAkOEL4I",
        "outputId": "f031edfd-d6ac-458c-bd79-91b34c65ea41"
      },
      "source": [
        "x = [word for word in x if word.isalnum()]\n",
        "print(x)"
      ],
      "execution_count": 13,
      "outputs": [
        {
          "output_type": "stream",
          "text": [
            "['from', 'fist', 'richard', 'pierson', 'subject', 'moving', 'on', 'organization', 'bellcore', 'distribution', 'usa', 'lines', '25', 'well', 'it', 'been', 'fun', 'this', 'is', 'my', 'last', 'day', 'at', 'bellcore', 'and', 'it', 'will', 'be', 'a', 'while', 'before', 'i', 'have', 'net', 'access', 'again', 'taking', 'time', 'off', 'and', 'scheduling', 'military', 'schools', 'for', 'the', 'summer', 'on', 'joint', 'operations', 'and', 'anything', 'else', 'that', 'looks', 'good', 'i', 'have', 'had', 'a', 'blast', 'reading', 'responding', 'and', 'commenting', 'on', 'things', 'posted', 'here', 'my', 'final', 'say', 'is', '9mm', 'are', 'inferior', 'to', 'errr', 'oh', 'wrong', 'news', 'group', 'hopefully', 'i', 'be', 'back', 'i', 'guess', 'internet', 'withdrawl', 'starts', 'around', '1pm', 'or', 'so', 'and', 'considering', 'i', 'never', 'knew', 'inet', 'existed', '2', 'years', 'ago', 'i', 'am', 'really', 'going', 'to', 'miss', 'it', 'oh', 'yea', 'to', 'the', 'guy', 'who', 'called', 'me', 'this', 'morning', 'about', 'the', 'military', 'issue', 'boots', 'good', 'luck', 'i', 'think', 'you', 'will', 'be', 'happy', 'with', 'the', 'tankers', 'boots', 'there', 'are', 'only', 'two', 'types', 'of', 'ships', 'in', 'the', 'navy', 'submarines', 'and', 'targets', 'dod', '956', '2', 'next', 'raise', 'richard', 'pierson', 'e06584', 'vnet', '908', 'internet', 'fist', 'uunet', 'uunet', 'bcr', 'fist', 'include', 'my', 'opinions', 'are', 'my', 'own', 'i', 'do', 'shop', 'in', 'malls', 'i', 'buy', 'my', 'jeans', 'jackets', 'and', 'ammo', 'in', 'the', 'same', 'store']\n"
          ],
          "name": "stdout"
        }
      ]
    },
    {
      "cell_type": "code",
      "metadata": {
        "colab": {
          "base_uri": "https://localhost:8080/"
        },
        "id": "WjwkiBRtENoE",
        "outputId": "96617660-39cd-48b3-9c77-5ccefa94a57b"
      },
      "source": [
        "from nltk.stem import WordNetLemmatizer\n",
        "from nltk.corpus import wordnet\n",
        "\n",
        "def get_wordnet_pos(word):\n",
        "     tag = nltk.pos_tag([word])[0][1][0].upper()\n",
        "     tag_dict = {\"J\": wordnet.ADJ, \"N\": wordnet.NOUN, \"V\": wordnet.VERB, \"R\": wordnet.ADV}\n",
        "     return tag_dict.get(tag, wordnet.NOUN)\n",
        "\n",
        "\n",
        "lemmatizer = WordNetLemmatizer()\n",
        "x = [lemmatizer.lemmatize(w, get_wordnet_pos(w)) for w in x]\n",
        "print(x)"
      ],
      "execution_count": 14,
      "outputs": [
        {
          "output_type": "stream",
          "text": [
            "['from', 'fist', 'richard', 'pierson', 'subject', 'move', 'on', 'organization', 'bellcore', 'distribution', 'usa', 'line', '25', 'well', 'it', 'be', 'fun', 'this', 'be', 'my', 'last', 'day', 'at', 'bellcore', 'and', 'it', 'will', 'be', 'a', 'while', 'before', 'i', 'have', 'net', 'access', 'again', 'take', 'time', 'off', 'and', 'schedule', 'military', 'school', 'for', 'the', 'summer', 'on', 'joint', 'operation', 'and', 'anything', 'else', 'that', 'look', 'good', 'i', 'have', 'have', 'a', 'blast', 'reading', 'respond', 'and', 'comment', 'on', 'thing', 'post', 'here', 'my', 'final', 'say', 'be', '9mm', 'be', 'inferior', 'to', 'errr', 'oh', 'wrong', 'news', 'group', 'hopefully', 'i', 'be', 'back', 'i', 'guess', 'internet', 'withdrawl', 'start', 'around', '1pm', 'or', 'so', 'and', 'consider', 'i', 'never', 'knew', 'inet', 'exist', '2', 'year', 'ago', 'i', 'be', 'really', 'go', 'to', 'miss', 'it', 'oh', 'yea', 'to', 'the', 'guy', 'who', 'call', 'me', 'this', 'morning', 'about', 'the', 'military', 'issue', 'boot', 'good', 'luck', 'i', 'think', 'you', 'will', 'be', 'happy', 'with', 'the', 'tanker', 'boot', 'there', 'be', 'only', 'two', 'type', 'of', 'ship', 'in', 'the', 'navy', 'submarine', 'and', 'target', 'dod', '956', '2', 'next', 'raise', 'richard', 'pierson', 'e06584', 'vnet', '908', 'internet', 'fist', 'uunet', 'uunet', 'bcr', 'fist', 'include', 'my', 'opinion', 'be', 'my', 'own', 'i', 'do', 'shop', 'in', 'mall', 'i', 'buy', 'my', 'jean', 'jacket', 'and', 'ammo', 'in', 'the', 'same', 'store']\n"
          ],
          "name": "stdout"
        }
      ]
    },
    {
      "cell_type": "code",
      "metadata": {
        "colab": {
          "base_uri": "https://localhost:8080/"
        },
        "id": "0d85Pu5PEQAb",
        "outputId": "18be141d-0be4-49ac-f6e9-02e99d0b09a9"
      },
      "source": [
        "from nltk.corpus import stopwords\n",
        "stop_words = set(stopwords.words(\"english\"))\n",
        "print(len(x))\n",
        "x = [word for word in x if not word in stop_words]\n",
        "print(x)\n",
        "print(len(x))"
      ],
      "execution_count": 15,
      "outputs": [
        {
          "output_type": "stream",
          "text": [
            "189\n",
            "['fist', 'richard', 'pierson', 'subject', 'move', 'organization', 'bellcore', 'distribution', 'usa', 'line', '25', 'well', 'fun', 'last', 'day', 'bellcore', 'net', 'access', 'take', 'time', 'schedule', 'military', 'school', 'summer', 'joint', 'operation', 'anything', 'else', 'look', 'good', 'blast', 'reading', 'respond', 'comment', 'thing', 'post', 'final', 'say', '9mm', 'inferior', 'errr', 'oh', 'wrong', 'news', 'group', 'hopefully', 'back', 'guess', 'internet', 'withdrawl', 'start', 'around', '1pm', 'consider', 'never', 'knew', 'inet', 'exist', '2', 'year', 'ago', 'really', 'go', 'miss', 'oh', 'yea', 'guy', 'call', 'morning', 'military', 'issue', 'boot', 'good', 'luck', 'think', 'happy', 'tanker', 'boot', 'two', 'type', 'ship', 'navy', 'submarine', 'target', 'dod', '956', '2', 'next', 'raise', 'richard', 'pierson', 'e06584', 'vnet', '908', 'internet', 'fist', 'uunet', 'uunet', 'bcr', 'fist', 'include', 'opinion', 'shop', 'mall', 'buy', 'jean', 'jacket', 'ammo', 'store']\n",
            "109\n"
          ],
          "name": "stdout"
        }
      ]
    },
    {
      "cell_type": "code",
      "metadata": {
        "colab": {
          "base_uri": "https://localhost:8080/"
        },
        "id": "ik2ZRWrKESbC",
        "outputId": "f9b71716-ab80-4eeb-92f1-ab9e7804da41"
      },
      "source": [
        "from tqdm import tqdm\n",
        "\n",
        "def preprocces(X):\n",
        "  X_proccess = []\n",
        "  lemmatizer = WordNetLemmatizer()\n",
        "\n",
        "  for x in tqdm(X):\n",
        "    \n",
        "    x = x.lower()\n",
        "    x = nltk.word_tokenize(x)\n",
        "    x = [word for word in x if word.isalnum()]\n",
        "    x = [lemmatizer.lemmatize(w) for w in x]\n",
        "    x = [word for word in x if not word in stop_words]\n",
        "    X_proccess.append(' '.join(x))\n",
        "  return X_proccess\n",
        "\n",
        "\n",
        "X_train_proc = preprocces(X_train)\n",
        "X_test_proc = preprocces(X_test)"
      ],
      "execution_count": 17,
      "outputs": [
        {
          "output_type": "stream",
          "text": [
            "100%|██████████| 8227/8227 [00:34<00:00, 241.13it/s]\n",
            "100%|██████████| 5477/5477 [00:21<00:00, 256.73it/s]\n"
          ],
          "name": "stderr"
        }
      ]
    },
    {
      "cell_type": "code",
      "metadata": {
        "colab": {
          "base_uri": "https://localhost:8080/"
        },
        "id": "R1ipdeWXEVW7",
        "outputId": "e18c2afc-5e02-4991-a869-1323b4787ce5"
      },
      "source": [
        "from sklearn.feature_extraction.text import TfidfVectorizer\n",
        "\n",
        "vectorizer = TfidfVectorizer()\n",
        "X_train_vec = vectorizer.fit_transform(X_train_proc)\n",
        "X_test_vec = vectorizer.transform(X_test_proc)\n",
        "print(X_train_vec.shape)\n",
        "print(X_test_vec.shape)"
      ],
      "execution_count": 18,
      "outputs": [
        {
          "output_type": "stream",
          "text": [
            "(8227, 62488)\n",
            "(5477, 62488)\n"
          ],
          "name": "stdout"
        }
      ]
    },
    {
      "cell_type": "code",
      "metadata": {
        "colab": {
          "base_uri": "https://localhost:8080/"
        },
        "id": "oBmJ48RyEymT",
        "outputId": "5675af82-d49b-49f6-9fd1-92af464d63bc"
      },
      "source": [
        "lr = LogisticRegression()\n",
        "lr.fit(X_train_vec, y_train)\n",
        "y_pred = lr.predict(X_test_vec)\n",
        "\n",
        "print(classification_report(y_true=y_test, y_pred=y_pred, target_names=newsgroups_train.target_names))"
      ],
      "execution_count": 19,
      "outputs": [
        {
          "output_type": "stream",
          "text": [
            "                        precision    recall  f1-score   support\n",
            "\n",
            " comp.sys.mac.hardware       0.90      0.92      0.91       385\n",
            "        comp.windows.x       0.92      0.93      0.93       395\n",
            "          misc.forsale       0.79      0.89      0.84       390\n",
            "             rec.autos       0.92      0.88      0.90       396\n",
            "       rec.motorcycles       0.96      0.94      0.95       398\n",
            "    rec.sport.baseball       0.94      0.95      0.94       397\n",
            "      rec.sport.hockey       0.96      0.96      0.96       399\n",
            "             sci.crypt       0.97      0.91      0.94       396\n",
            "       sci.electronics       0.78      0.87      0.82       393\n",
            "               sci.med       0.94      0.87      0.91       396\n",
            "             sci.space       0.97      0.94      0.95       394\n",
            "soc.religion.christian       0.93      0.95      0.94       398\n",
            "    talk.politics.guns       0.95      0.93      0.94       364\n",
            " talk.politics.mideast       0.99      0.93      0.96       376\n",
            "\n",
            "              accuracy                           0.92      5477\n",
            "             macro avg       0.92      0.92      0.92      5477\n",
            "          weighted avg       0.92      0.92      0.92      5477\n",
            "\n"
          ],
          "name": "stdout"
        }
      ]
    },
    {
      "cell_type": "code",
      "metadata": {
        "id": "AErurS-pE1Xw"
      },
      "source": [
        ""
      ],
      "execution_count": null,
      "outputs": []
    }
  ]
}